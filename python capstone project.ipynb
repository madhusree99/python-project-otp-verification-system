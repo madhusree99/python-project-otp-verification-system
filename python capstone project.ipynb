{
 "cells": [
  {
   "cell_type": "markdown",
   "id": "9c0d1ef9-ca69-4558-bec3-0556f4931158",
   "metadata": {},
   "source": [
    "# OTP VERIFICATION SYSTEM"
   ]
  },
  {
   "cell_type": "code",
   "execution_count": 1,
   "id": "1e0e28bc-ff03-4088-b783-f91a1eb9dbe4",
   "metadata": {},
   "outputs": [
    {
     "name": "stdin",
     "output_type": "stream",
     "text": [
      "Enter your email address:  poojyachandra129@gmail.com\n"
     ]
    },
    {
     "name": "stdout",
     "output_type": "stream",
     "text": [
      "Generated OTP: 488498\n",
      "Attempting to send OTP email...\n",
      "Error sending OTP: (535, b'5.7.8 Username and Password not accepted. For more information, go to\\n5.7.8  https://support.google.com/mail/?p=BadCredentials d9443c01a7336-2038556667bsm39244995ad.7 - gsmtp')\n"
     ]
    },
    {
     "name": "stdin",
     "output_type": "stream",
     "text": [
      "Please enter the OTP sent to your email:  488498\n"
     ]
    },
    {
     "name": "stdout",
     "output_type": "stream",
     "text": [
      "Access granted!\n"
     ]
    }
   ],
   "source": [
    "# importing libraries \n",
    "import random\n",
    "import smtplib\n",
    "from email.mime.text import MIMEText\n",
    "#Generates a random 6-digit OTP using Python's random module.\n",
    "def generate_otp():\n",
    "    otp = ''.join([str(random.randint(0, 9)) for _ in range(6)])\n",
    "    print(f\"Generated OTP: {otp}\")  # Debugging\n",
    "    return otp\n",
    "#Sending OTP via Email\n",
    "#Sends the generated OTP to the user's email. Use libraries like smtplib  for sending emails.\n",
    "def send_otp(email, otp):\n",
    "    sender_email = \"your_email@example.com\"\n",
    "    sender_password = \"your_email_password\"\n",
    "    subject = \"Your OTP Code\"\n",
    "    body = f\"Your OTP code is: {otp}\"\n",
    "    \n",
    "    msg = MIMEText(body)\n",
    "    msg['Subject'] = subject\n",
    "    msg['From'] = sender_email\n",
    "    msg['To'] = email\n",
    "\n",
    "    try:\n",
    "        print(\"Attempting to send OTP email...\")  # Debugging\n",
    "        with smtplib.SMTP_SSL('smtp.gmail.com', 465) as server:\n",
    "            server.login(sender_email, sender_password)\n",
    "            server.sendmail(sender_email, email, msg.as_string())\n",
    "        print(\"OTP sent successfully!\")  # Debugging\n",
    "    except Exception as e:\n",
    "        print(f\"Error sending OTP: {e}\")\n",
    "#User OTP Entry\n",
    "#Prompts the user to enter the OTP received in their email.\n",
    "def get_user_otp():\n",
    "    return input(\"Please enter the OTP sent to your email: \")\n",
    "#OTP Verification\n",
    "#Compares the OTP entered by the user with the generated OTP\n",
    "def verify_otp(generated_otp, entered_otp):\n",
    "    return generated_otp == entered_otp\n",
    "#Error Handling and User Interaction\n",
    "#Ensure the user is informed if the OTP does not match and allow retries.\n",
    "def main():\n",
    "    email = input(\"Enter your email address: \")\n",
    "    otp = generate_otp()\n",
    "    send_otp(email, otp)\n",
    "\n",
    "    for attempt in range(3):  # Allow 3 attempts\n",
    "        entered_otp = get_user_otp()\n",
    "        if verify_otp(otp, entered_otp):\n",
    "            print(\"Access granted!\")\n",
    "            return\n",
    "        else:\n",
    "            print(\"Incorrect OTP. Please try again.\")\n",
    "    print(\"Access denied. Too many incorrect attempts.\")\n",
    "\n",
    "# Run the main function\n",
    "main()\n"
   ]
  },
  {
   "cell_type": "markdown",
   "id": "a882c3d1-547f-4f07-a3bb-696ec02c1ab8",
   "metadata": {},
   "source": [
    "# here  the above shown that the  user have entered the correct otp hence,access granted"
   ]
  },
  {
   "cell_type": "markdown",
   "id": "063370a4-ac2c-4e61-a456-b64924050c63",
   "metadata": {},
   "source": [
    "# TESTING "
   ]
  },
  {
   "cell_type": "code",
   "execution_count": 2,
   "id": "26101b63-0905-4681-9371-283e9ac596d6",
   "metadata": {},
   "outputs": [
    {
     "name": "stdin",
     "output_type": "stream",
     "text": [
      "Enter your email address:  poojyachandra129@gmail.com\n"
     ]
    },
    {
     "name": "stdout",
     "output_type": "stream",
     "text": [
      "Generated OTP: 895039\n",
      "Attempting to send OTP email...\n",
      "Error sending OTP: (535, b'5.7.8 Username and Password not accepted. For more information, go to\\n5.7.8  https://support.google.com/mail/?p=BadCredentials d9443c01a7336-20385580f11sm39102775ad.109 - gsmtp')\n"
     ]
    },
    {
     "name": "stdin",
     "output_type": "stream",
     "text": [
      "Please enter the OTP sent to your email:  895038\n"
     ]
    },
    {
     "name": "stdout",
     "output_type": "stream",
     "text": [
      "Incorrect OTP. Please try again.\n"
     ]
    },
    {
     "name": "stdin",
     "output_type": "stream",
     "text": [
      "Please enter the OTP sent to your email:  896039\n"
     ]
    },
    {
     "name": "stdout",
     "output_type": "stream",
     "text": [
      "Incorrect OTP. Please try again.\n"
     ]
    },
    {
     "name": "stdin",
     "output_type": "stream",
     "text": [
      "Please enter the OTP sent to your email:  895032\n"
     ]
    },
    {
     "name": "stdout",
     "output_type": "stream",
     "text": [
      "Incorrect OTP. Please try again.\n",
      "Access denied. Too many incorrect attempts.\n"
     ]
    }
   ],
   "source": [
    "# importing libraries\n",
    "import random\n",
    "import smtplib\n",
    "from email.mime.text import MIMEText\n",
    "#Generates a random 6-digit OTP using Python's random module.\n",
    "def generate_otp():\n",
    "    otp = ''.join([str(random.randint(0, 9)) for _ in range(6)])\n",
    "    print(f\"Generated OTP: {otp}\")  # Debugging\n",
    "    return otp\n",
    "#Sending OTP via Email\n",
    "#Sends the generated OTP to the user's email. Use libraries like smtplib  for sending emails.\n",
    "def send_otp(email, otp):\n",
    "    sender_email = \"your_email@example.com\"\n",
    "    sender_password = \"your_email_password\"\n",
    "    subject = \"Your OTP Code\"\n",
    "    body = f\"Your OTP code is: {otp}\"\n",
    "    \n",
    "    msg = MIMEText(body)\n",
    "    msg['Subject'] = subject\n",
    "    msg['From'] = sender_email\n",
    "    msg['To'] = email\n",
    "\n",
    "    try:\n",
    "        print(\"Attempting to send OTP email...\")  # Debugging\n",
    "        with smtplib.SMTP_SSL('smtp.gmail.com', 465) as server:\n",
    "            server.login(sender_email, sender_password)\n",
    "            server.sendmail(sender_email, email, msg.as_string())\n",
    "        print(\"OTP sent successfully!\")  # Debugging\n",
    "    except Exception as e:\n",
    "        print(f\"Error sending OTP: {e}\")\n",
    "#User OTP Entry\n",
    "#Prompts the user to enter the OTP received in their email.\n",
    "def get_user_otp():\n",
    "    return input(\"Please enter the OTP sent to your email: \")\n",
    "#OTP Verification\n",
    "#Compares the OTP entered by the user with the generated OTP\n",
    "def verify_otp(generated_otp, entered_otp):\n",
    "    return generated_otp == entered_otp\n",
    "#Error Handling and User Interaction\n",
    "#Ensure the user is informed if the OTP does not match and allow retries.\n",
    "def main():\n",
    "    email = input(\"Enter your email address: \")\n",
    "    otp = generate_otp()\n",
    "    send_otp(email, otp)\n",
    "\n",
    "    for attempt in range(3):  # Allow 3 attempts\n",
    "        entered_otp = get_user_otp()\n",
    "        if verify_otp(otp, entered_otp):\n",
    "            print(\"Access granted!\")\n",
    "            return\n",
    "        else:\n",
    "            print(\"Incorrect OTP. Please try again.\")\n",
    "    print(\"Access denied. Too many incorrect attempts.\")\n",
    "\n",
    "# Run the main function\n",
    "main()\n"
   ]
  },
  {
   "cell_type": "markdown",
   "id": "6a3c57ed-e633-4dea-9b51-3f778a1afdba",
   "metadata": {},
   "source": [
    "# here  the above shown that the  user have entered the incorrect otp,hence access denied.too many attempts."
   ]
  }
 ],
 "metadata": {
  "kernelspec": {
   "display_name": "Python 3 (ipykernel)",
   "language": "python",
   "name": "python3"
  },
  "language_info": {
   "codemirror_mode": {
    "name": "ipython",
    "version": 3
   },
   "file_extension": ".py",
   "mimetype": "text/x-python",
   "name": "python",
   "nbconvert_exporter": "python",
   "pygments_lexer": "ipython3",
   "version": "3.11.7"
  }
 },
 "nbformat": 4,
 "nbformat_minor": 5
}
